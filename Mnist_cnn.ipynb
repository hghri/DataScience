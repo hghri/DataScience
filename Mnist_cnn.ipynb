{
 "cells": [
  {
   "cell_type": "code",
   "execution_count": 1,
   "id": "65ef4fc5",
   "metadata": {},
   "outputs": [
    {
     "name": "stdout",
     "output_type": "stream",
     "text": [
      "WARNING:tensorflow:From C:\\Users\\Kalimist\\AppData\\Roaming\\Python\\Python311\\site-packages\\keras\\src\\losses.py:2976: The name tf.losses.sparse_softmax_cross_entropy is deprecated. Please use tf.compat.v1.losses.sparse_softmax_cross_entropy instead.\n",
      "\n"
     ]
    }
   ],
   "source": [
    "import numpy as np\n",
    "import mnist\n",
    "from tensorflow.keras.models import Sequential\n",
    "from tensorflow.keras.layers import Flatten,Conv2D,MaxPool2D,Dense,ZeroPadding2D\n",
    "from tensorflow.keras.utils import to_categorical"
   ]
  },
  {
   "cell_type": "code",
   "execution_count": 2,
   "id": "bc0ae501",
   "metadata": {},
   "outputs": [],
   "source": [
    "X_train=mnist.train_images()/255\n",
    "X_test=mnist.test_images()/255\n",
    "y_train=mnist.train_labels()\n",
    "y_test=mnist.test_labels()"
   ]
  },
  {
   "cell_type": "code",
   "execution_count": 3,
   "id": "11ff1c0b",
   "metadata": {},
   "outputs": [
    {
     "data": {
      "text/plain": [
       "(60000, 28, 28)"
      ]
     },
     "execution_count": 3,
     "metadata": {},
     "output_type": "execute_result"
    }
   ],
   "source": [
    "np.shape(X_train)"
   ]
  },
  {
   "cell_type": "code",
   "execution_count": 3,
   "id": "a9395bd2",
   "metadata": {},
   "outputs": [],
   "source": [
    "X_train=np.expand_dims(X_train,axis=3)"
   ]
  },
  {
   "cell_type": "code",
   "execution_count": 4,
   "id": "178aabd6",
   "metadata": {},
   "outputs": [],
   "source": [
    "X_test=np.expand_dims(X_test,axis=3)"
   ]
  },
  {
   "cell_type": "code",
   "execution_count": 6,
   "id": "318721e4",
   "metadata": {},
   "outputs": [
    {
     "name": "stdout",
     "output_type": "stream",
     "text": [
      "WARNING:tensorflow:From C:\\Users\\Kalimist\\AppData\\Roaming\\Python\\Python311\\site-packages\\keras\\src\\backend.py:873: The name tf.get_default_graph is deprecated. Please use tf.compat.v1.get_default_graph instead.\n",
      "\n",
      "WARNING:tensorflow:From C:\\Users\\Kalimist\\AppData\\Roaming\\Python\\Python311\\site-packages\\keras\\src\\layers\\pooling\\max_pooling2d.py:161: The name tf.nn.max_pool is deprecated. Please use tf.nn.max_pool2d instead.\n",
      "\n"
     ]
    }
   ],
   "source": [
    "model=Sequential([\n",
    "    Conv2D(10,3,input_shape=(28,28,1)),\n",
    "    MaxPool2D(pool_size=2,strides=2),\n",
    "    Conv2D(2,3),\n",
    "    MaxPool2D(pool_size=2,strides=2),\n",
    "    Flatten(),\n",
    "    Dense(128,activation='relu'),\n",
    "    Dense(10,activation='softmax')\n",
    "])"
   ]
  },
  {
   "cell_type": "code",
   "execution_count": 7,
   "id": "2a378154",
   "metadata": {},
   "outputs": [
    {
     "name": "stdout",
     "output_type": "stream",
     "text": [
      "Model: \"sequential\"\n",
      "_________________________________________________________________\n",
      " Layer (type)                Output Shape              Param #   \n",
      "=================================================================\n",
      " conv2d (Conv2D)             (None, 26, 26, 10)        100       \n",
      "                                                                 \n",
      " max_pooling2d (MaxPooling2  (None, 13, 13, 10)        0         \n",
      " D)                                                              \n",
      "                                                                 \n",
      " conv2d_1 (Conv2D)           (None, 11, 11, 2)         182       \n",
      "                                                                 \n",
      " max_pooling2d_1 (MaxPoolin  (None, 5, 5, 2)           0         \n",
      " g2D)                                                            \n",
      "                                                                 \n",
      " flatten (Flatten)           (None, 50)                0         \n",
      "                                                                 \n",
      " dense (Dense)               (None, 128)               6528      \n",
      "                                                                 \n",
      " dense_1 (Dense)             (None, 10)                1290      \n",
      "                                                                 \n",
      "=================================================================\n",
      "Total params: 8100 (31.64 KB)\n",
      "Trainable params: 8100 (31.64 KB)\n",
      "Non-trainable params: 0 (0.00 Byte)\n",
      "_________________________________________________________________\n"
     ]
    }
   ],
   "source": [
    "model.summary()"
   ]
  },
  {
   "cell_type": "code",
   "execution_count": 18,
   "id": "f721fc01",
   "metadata": {},
   "outputs": [],
   "source": [
    "from tensorflow.keras.losses import CategoricalCrossentropy\n",
    "from tensorflow.keras.metrics import CategoricalAccuracy\n",
    "from tensorflow.keras.optimizers import Adam"
   ]
  },
  {
   "cell_type": "code",
   "execution_count": 19,
   "id": "b8a2311b",
   "metadata": {},
   "outputs": [],
   "source": [
    "model.compile(optimizer=Adam(0.001),loss=CategoricalCrossentropy(),metrics=CategoricalAccuracy())"
   ]
  },
  {
   "cell_type": "code",
   "execution_count": 20,
   "id": "0cfbb6f2",
   "metadata": {},
   "outputs": [],
   "source": [
    "y_train=to_categorical(y_train)\n",
    "y_test=to_categorical(y_test)"
   ]
  },
  {
   "cell_type": "code",
   "execution_count": null,
   "id": "d0735de9",
   "metadata": {},
   "outputs": [
    {
     "name": "stdout",
     "output_type": "stream",
     "text": [
      "Epoch 1/10\n",
      "WARNING:tensorflow:From C:\\Users\\Kalimist\\AppData\\Roaming\\Python\\Python311\\site-packages\\keras\\src\\utils\\tf_utils.py:492: The name tf.ragged.RaggedTensorValue is deprecated. Please use tf.compat.v1.ragged.RaggedTensorValue instead.\n",
      "\n",
      "200/200 [==============================] - 29s 133ms/step - loss: 0.2887 - categorical_accuracy: 0.9165 - val_loss: 0.0670 - val_categorical_accuracy: 0.9793\n",
      "Epoch 2/10\n",
      "200/200 [==============================] - 27s 134ms/step - loss: 0.0672 - categorical_accuracy: 0.9801 - val_loss: 0.0453 - val_categorical_accuracy: 0.9846\n",
      "Epoch 3/10\n",
      "200/200 [==============================] - 30s 150ms/step - loss: 0.0473 - categorical_accuracy: 0.9854 - val_loss: 0.0365 - val_categorical_accuracy: 0.9878\n",
      "Epoch 4/10\n",
      "200/200 [==============================] - 32s 159ms/step - loss: 0.0369 - categorical_accuracy: 0.9886 - val_loss: 0.0315 - val_categorical_accuracy: 0.9892\n",
      "Epoch 5/10\n",
      "200/200 [==============================] - 27s 133ms/step - loss: 0.0298 - categorical_accuracy: 0.9909 - val_loss: 0.0309 - val_categorical_accuracy: 0.9891\n",
      "Epoch 6/10\n",
      "200/200 [==============================] - 25s 125ms/step - loss: 0.0234 - categorical_accuracy: 0.9927 - val_loss: 0.0316 - val_categorical_accuracy: 0.9897\n",
      "Epoch 7/10\n",
      "200/200 [==============================] - 28s 141ms/step - loss: 0.0184 - categorical_accuracy: 0.9943 - val_loss: 0.0280 - val_categorical_accuracy: 0.9897\n",
      "Epoch 8/10\n",
      "200/200 [==============================] - 29s 143ms/step - loss: 0.0158 - categorical_accuracy: 0.9954 - val_loss: 0.0284 - val_categorical_accuracy: 0.9897\n",
      "Epoch 9/10\n",
      "200/200 [==============================] - 26s 128ms/step - loss: 0.0134 - categorical_accuracy: 0.9959 - val_loss: 0.0378 - val_categorical_accuracy: 0.9888\n",
      "Epoch 10/10\n",
      " 40/200 [=====>........................] - ETA: 21s - loss: 0.0109 - categorical_accuracy: 0.9970"
     ]
    }
   ],
   "source": [
    "history=model.fit(X_train,y_train,epochs=10,validation_data=(X_test,y_test),batch_size=300)"
   ]
  },
  {
   "cell_type": "code",
   "execution_count": 12,
   "id": "66998cca",
   "metadata": {},
   "outputs": [],
   "source": [
    "import matplotlib.pyplot as plt"
   ]
  },
  {
   "cell_type": "code",
   "execution_count": 14,
   "id": "da85eefa",
   "metadata": {},
   "outputs": [
    {
     "data": {
      "text/plain": [
       "[<matplotlib.lines.Line2D at 0x2ccbd082a50>]"
      ]
     },
     "execution_count": 14,
     "metadata": {},
     "output_type": "execute_result"
    },
    {
     "data": {
      "image/png": "[encoded data removed]",
      "text/plain": [
       "<Figure size 640x480 with 1 Axes>"
      ]
     },
     "metadata": {},
     "output_type": "display_data"
    }
   ],
   "source": [
    "plt.plot(history.history['loss'],color='green',label='Train Data')\n",
    "plt.plot(history.history['val_loss'],color='red',label='Test Data')"
   ]
  },
  {
   "cell_type": "code",
   "execution_count": 29,
   "id": "00163adc",
   "metadata": {},
   "outputs": [],
   "source": [
    "import tensorflow as tf"
   ]
  },
  {
   "cell_type": "code",
   "execution_count": 32,
   "id": "81251226",
   "metadata": {},
   "outputs": [
    {
     "name": "stdout",
     "output_type": "stream",
     "text": [
      "dict_keys(['loss', 'categorical_accuracy', 'val_loss', 'val_categorical_accuracy'])\n"
     ]
    }
   ],
   "source": [
    "print(history.history.keys())\n"
   ]
  },
  {
   "cell_type": "code",
   "execution_count": 33,
   "id": "dd420023",
   "metadata": {},
   "outputs": [
    {
     "data": {
      "text/plain": [
       "[<matplotlib.lines.Line2D at 0x2ccbff7ef10>]"
      ]
     },
     "execution_count": 33,
     "metadata": {},
     "output_type": "execute_result"
    },
    {
     "data": {
      "image/png": "[encoded data removed]",
      "text/plain": [
       "<Figure size 640x480 with 1 Axes>"
      ]
     },
     "metadata": {},
     "output_type": "display_data"
    }
   ],
   "source": [
    "plt.plot(history.history['categorical_accuracy'],color='green',label='Train Data')\n",
    "plt.plot(history.history['val_categorical_accuracy'],color='red',label='Test Data')"
   ]
  },
  {
   "cell_type": "code",
   "execution_count": 16,
   "id": "ef632451",
   "metadata": {},
   "outputs": [],
   "source": [
    "model=Sequential([\n",
    "    ZeroPadding2D(padding=(1,1),input_shape=(28,28,1)),\n",
    "    Conv2D(32,3,activation='relu'),\n",
    "    MaxPool2D(pool_size=2,strides=2),\n",
    "    ZeroPadding2D(padding=(1,1)),\n",
    "    Conv2D(64,3,activation='relu'),\n",
    "    MaxPool2D(pool_size=2,strides=2),\n",
    "    Flatten(),\n",
    "    Dense(128,activation='relu'),\n",
    "    Dense(10,activation='softmax')\n",
    "])"
   ]
  },
  {
   "cell_type": "code",
   "execution_count": 17,
   "id": "4060d911",
   "metadata": {},
   "outputs": [
    {
     "name": "stdout",
     "output_type": "stream",
     "text": [
      "Model: \"sequential_7\"\n",
      "_________________________________________________________________\n",
      " Layer (type)                Output Shape              Param #   \n",
      "=================================================================\n",
      " zero_padding2d_14 (ZeroPad  (None, 30, 30, 1)         0         \n",
      " ding2D)                                                         \n",
      "                                                                 \n",
      " conv2d_14 (Conv2D)          (None, 28, 28, 32)        320       \n",
      "                                                                 \n",
      " max_pooling2d_14 (MaxPooli  (None, 14, 14, 32)        0         \n",
      " ng2D)                                                           \n",
      "                                                                 \n",
      " zero_padding2d_15 (ZeroPad  (None, 16, 16, 32)        0         \n",
      " ding2D)                                                         \n",
      "                                                                 \n",
      " conv2d_15 (Conv2D)          (None, 14, 14, 64)        18496     \n",
      "                                                                 \n",
      " max_pooling2d_15 (MaxPooli  (None, 7, 7, 64)          0         \n",
      " ng2D)                                                           \n",
      "                                                                 \n",
      " flatten_7 (Flatten)         (None, 3136)              0         \n",
      "                                                                 \n",
      " dense_14 (Dense)            (None, 128)               401536    \n",
      "                                                                 \n",
      " dense_15 (Dense)            (None, 10)                1290      \n",
      "                                                                 \n",
      "=================================================================\n",
      "Total params: 421642 (1.61 MB)\n",
      "Trainable params: 421642 (1.61 MB)\n",
      "Non-trainable params: 0 (0.00 Byte)\n",
      "_________________________________________________________________\n"
     ]
    }
   ],
   "source": [
    "model.summary()"
   ]
  },
  {
   "cell_type": "code",
   "execution_count": null,
   "id": "4d9f924b",
   "metadata": {},
   "outputs": [],
   "source": []
  }
 ],
 "metadata": {
  "kernelspec": {
   "display_name": "Python 3 (ipykernel)",
   "language": "python",
   "name": "python3"
  },
  "language_info": {
   "codemirror_mode": {
    "name": "ipython",
    "version": 3
   },
   "file_extension": ".py",
   "mimetype": "text/x-python",
   "name": "python",
   "nbconvert_exporter": "python",
   "pygments_lexer": "ipython3",
   "version": "3.11.4"
  }
 },
 "nbformat": 4,
 "nbformat_minor": 5
}
