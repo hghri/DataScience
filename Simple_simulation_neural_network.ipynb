{
  "nbformat": 4,
  "nbformat_minor": 0,
  "metadata": {
    "colab": {
      "provenance": [],
      "authorship_tag": "ABX9TyNpvrfczm1xveN/TeL9OhOa",
      "include_colab_link": true
    },
    "kernelspec": {
      "name": "python3",
      "display_name": "Python 3"
    },
    "language_info": {
      "name": "python"
    }
  },
  "cells": [
    {
      "cell_type": "markdown",
      "metadata": {
        "id": "view-in-github",
        "colab_type": "text"
      },
      "source": [
        "<a href=\"https://colab.research.google.com/github/hghri/DataScience/blob/main/Simple_simulation_neural_network.ipynb\" target=\"_parent\"><img src=\"https://colab.research.google.com/assets/colab-badge.svg\" alt=\"Open In Colab\"/></a>"
      ]
    },
    {
      "cell_type": "code",
      "execution_count": 38,
      "metadata": {
        "id": "oSwNlj5nSZVZ"
      },
      "outputs": [],
      "source": [
        "import numpy as np\n",
        "import random"
      ]
    },
    {
      "cell_type": "code",
      "source": [
        "bias=1"
      ],
      "metadata": {
        "id": "7CvYTi5tSfr9"
      },
      "execution_count": 39,
      "outputs": []
    },
    {
      "cell_type": "code",
      "source": [
        "bias = 1\n",
        "X = [\n",
        "    [1, 1, 1],\n",
        "    [1, 0, 1],\n",
        "    [0, 1, 1],\n",
        "    [0, 0, 0]\n",
        "]\n",
        "w = [\n",
        "    random.random(),\n",
        "    random.random(),\n",
        "    random.random()\n",
        "]"
      ],
      "metadata": {
        "id": "4vEBub6wS6xu"
      },
      "execution_count": 40,
      "outputs": []
    },
    {
      "cell_type": "code",
      "source": [
        "w"
      ],
      "metadata": {
        "colab": {
          "base_uri": "https://localhost:8080/"
        },
        "id": "oLfJkNYMkETT",
        "outputId": "edf7a4ce-1063-426c-db3a-25884abffac0"
      },
      "execution_count": 41,
      "outputs": [
        {
          "output_type": "execute_result",
          "data": {
            "text/plain": [
              "[0.1349839961004753, 0.40914769952073027, 0.3393843888886088]"
            ]
          },
          "metadata": {},
          "execution_count": 41
        }
      ]
    },
    {
      "cell_type": "code",
      "source": [
        "def neuron(instance):\n",
        "    x0 = instance[0]\n",
        "    x1 = instance[1]\n",
        "    y = instance[2]\n",
        "    output = af(x0*w[0] + x1*w[1] + bias*w[2])\n",
        "    error = y - output\n",
        "    w[0] = w[0] + (error * x0)\n",
        "    w[1] = w[1] + (error * x1)\n",
        "    w[2] = w[2] + (error * bias)\n",
        "    return error"
      ],
      "metadata": {
        "id": "QTETer1QTHwj"
      },
      "execution_count": 46,
      "outputs": []
    },
    {
      "cell_type": "code",
      "source": [
        "def af(num):\n",
        "  if num > 0 :\n",
        "    return 1\n",
        "  else:\n",
        "    return 0"
      ],
      "metadata": {
        "id": "iBDh8cJxVJyu"
      },
      "execution_count": 47,
      "outputs": []
    },
    {
      "cell_type": "code",
      "source": [
        "for i in range(100):\n",
        "  print('epoch' +' '+ str(i))\n",
        "  for j in X:\n",
        "    neuron(j)"
      ],
      "metadata": {
        "colab": {
          "base_uri": "https://localhost:8080/"
        },
        "id": "sm-YrA3lhMix",
        "outputId": "36d4d0e3-5bc8-4735-da0e-feec08085e6c"
      },
      "execution_count": 48,
      "outputs": [
        {
          "output_type": "stream",
          "name": "stdout",
          "text": [
            "epoch 0\n",
            "epoch 1\n",
            "epoch 2\n",
            "epoch 3\n",
            "epoch 4\n",
            "epoch 5\n",
            "epoch 6\n",
            "epoch 7\n",
            "epoch 8\n",
            "epoch 9\n",
            "epoch 10\n",
            "epoch 11\n",
            "epoch 12\n",
            "epoch 13\n",
            "epoch 14\n",
            "epoch 15\n",
            "epoch 16\n",
            "epoch 17\n",
            "epoch 18\n",
            "epoch 19\n",
            "epoch 20\n",
            "epoch 21\n",
            "epoch 22\n",
            "epoch 23\n",
            "epoch 24\n",
            "epoch 25\n",
            "epoch 26\n",
            "epoch 27\n",
            "epoch 28\n",
            "epoch 29\n",
            "epoch 30\n",
            "epoch 31\n",
            "epoch 32\n",
            "epoch 33\n",
            "epoch 34\n",
            "epoch 35\n",
            "epoch 36\n",
            "epoch 37\n",
            "epoch 38\n",
            "epoch 39\n",
            "epoch 40\n",
            "epoch 41\n",
            "epoch 42\n",
            "epoch 43\n",
            "epoch 44\n",
            "epoch 45\n",
            "epoch 46\n",
            "epoch 47\n",
            "epoch 48\n",
            "epoch 49\n",
            "epoch 50\n",
            "epoch 51\n",
            "epoch 52\n",
            "epoch 53\n",
            "epoch 54\n",
            "epoch 55\n",
            "epoch 56\n",
            "epoch 57\n",
            "epoch 58\n",
            "epoch 59\n",
            "epoch 60\n",
            "epoch 61\n",
            "epoch 62\n",
            "epoch 63\n",
            "epoch 64\n",
            "epoch 65\n",
            "epoch 66\n",
            "epoch 67\n",
            "epoch 68\n",
            "epoch 69\n",
            "epoch 70\n",
            "epoch 71\n",
            "epoch 72\n",
            "epoch 73\n",
            "epoch 74\n",
            "epoch 75\n",
            "epoch 76\n",
            "epoch 77\n",
            "epoch 78\n",
            "epoch 79\n",
            "epoch 80\n",
            "epoch 81\n",
            "epoch 82\n",
            "epoch 83\n",
            "epoch 84\n",
            "epoch 85\n",
            "epoch 86\n",
            "epoch 87\n",
            "epoch 88\n",
            "epoch 89\n",
            "epoch 90\n",
            "epoch 91\n",
            "epoch 92\n",
            "epoch 93\n",
            "epoch 94\n",
            "epoch 95\n",
            "epoch 96\n",
            "epoch 97\n",
            "epoch 98\n",
            "epoch 99\n"
          ]
        }
      ]
    },
    {
      "cell_type": "code",
      "source": [
        "w"
      ],
      "metadata": {
        "colab": {
          "base_uri": "https://localhost:8080/"
        },
        "id": "6dk-9RHSkBbM",
        "outputId": "7069c4c8-dfa8-4050-e3dd-d328fb64e7c9"
      },
      "execution_count": 49,
      "outputs": [
        {
          "output_type": "execute_result",
          "data": {
            "text/plain": [
              "[1.1349839961004753, 1.4091476995207302, -0.6606156111113912]"
            ]
          },
          "metadata": {},
          "execution_count": 49
        }
      ]
    },
    {
      "cell_type": "code",
      "source": [],
      "metadata": {
        "id": "294-RMXEkfgE"
      },
      "execution_count": null,
      "outputs": []
    }
  ]
}