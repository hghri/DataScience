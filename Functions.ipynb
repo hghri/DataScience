{
  "nbformat": 4,
  "nbformat_minor": 0,
  "metadata": {
    "colab": {
      "provenance": [],
      "authorship_tag": "ABX9TyPAahUvM/PqbaupvMZTDINt",
      "include_colab_link": true
    },
    "kernelspec": {
      "name": "python3",
      "display_name": "Python 3"
    },
    "language_info": {
      "name": "python"
    }
  },
  "cells": [
    {
      "cell_type": "markdown",
      "metadata": {
        "id": "view-in-github",
        "colab_type": "text"
      },
      "source": [
        "<a href=\"https://colab.research.google.com/github/hghri/DataScience/blob/main/Functions.ipynb\" target=\"_parent\"><img src=\"https://colab.research.google.com/assets/colab-badge.svg\" alt=\"Open In Colab\"/></a>"
      ]
    },
    {
      "cell_type": "markdown",
      "source": [
        "#Function Types"
      ],
      "metadata": {
        "id": "zk-s9yfc43rA"
      }
    },
    {
      "cell_type": "code",
      "execution_count": null,
      "metadata": {
        "id": "vyoW1NI14bwe"
      },
      "outputs": [],
      "source": [
        "import numpy as np"
      ]
    },
    {
      "cell_type": "code",
      "source": [
        "x =[0 ,1 ,2 ,3]\n",
        "np.sin(x)\n",
        "np.cos(x)\n",
        "np.tan(x)"
      ],
      "metadata": {
        "colab": {
          "base_uri": "https://localhost:8080/"
        },
        "id": "yU0Pol2O5DbA",
        "outputId": "110a1be0-0250-4ead-d99b-15c6fa2436d6"
      },
      "execution_count": null,
      "outputs": [
        {
          "output_type": "execute_result",
          "data": {
            "text/plain": [
              "array([ 0.        ,  1.55740772, -2.18503986, -0.14254654])"
            ]
          },
          "metadata": {},
          "execution_count": 13
        }
      ]
    },
    {
      "cell_type": "code",
      "source": [
        "#basics\n",
        "x= 2\n",
        "np.exp(x)\n",
        "np.log(x)\n",
        "np.log2(x)\n",
        "np.sqrt(x) #jazr\n",
        "y= -2.5\n",
        "np.absolute(y)\n",
        "np.negative(y)\n",
        "np.ceil(y)\n",
        "np.floor(y)\n",
        "np.maximum(x,y)\n",
        "np.minimum(x,y)"
      ],
      "metadata": {
        "colab": {
          "base_uri": "https://localhost:8080/"
        },
        "id": "pHYilq305_EH",
        "outputId": "3cdf7ba5-904b-4fc2-cc9b-5d590a4b6edb"
      },
      "execution_count": null,
      "outputs": [
        {
          "output_type": "execute_result",
          "data": {
            "text/plain": [
              "-2.5"
            ]
          },
          "metadata": {},
          "execution_count": 30
        }
      ]
    },
    {
      "cell_type": "code",
      "source": [],
      "metadata": {
        "id": "WCKpuGSf7PpV"
      },
      "execution_count": null,
      "outputs": []
    }
  ]
}